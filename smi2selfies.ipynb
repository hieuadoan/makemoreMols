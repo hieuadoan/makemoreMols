{
 "cells": [
  {
   "cell_type": "code",
   "execution_count": 1,
   "metadata": {},
   "outputs": [],
   "source": [
    "import selfies as sf\n",
    "import rdkit.Chem as Chem\n",
    "from rdkit.Chem import Draw"
   ]
  },
  {
   "cell_type": "code",
   "execution_count": 2,
   "metadata": {},
   "outputs": [
    {
     "data": {
      "image/jpeg": "[encoded data removed]",
      "image/png": "[encoded data removed]",
      "text/plain": [
       "<PIL.PngImagePlugin.PngImageFile image mode=RGB size=300x300>"
      ]
     },
     "execution_count": 2,
     "metadata": {},
     "output_type": "execute_result"
    }
   ],
   "source": [
    "smiles = 'CNC(C)CC1=CC=C2C(=C1)OCO2'\n",
    "Draw.MolToImage(Chem.MolFromSmiles(smiles))"
   ]
  },
  {
   "cell_type": "code",
   "execution_count": 3,
   "metadata": {},
   "outputs": [
    {
     "name": "stdout",
     "output_type": "stream",
     "text": [
      "[C][N][C][Branch1][C][C][C][C][=C][C][=C][C][=Branch1][Ring2][=C][Ring1][=Branch1][O][C][O][Ring1][=Branch1]\n"
     ]
    }
   ],
   "source": [
    "smiles_sf = sf.encoder(smiles)\n",
    "print(smiles_sf)"
   ]
  },
  {
   "cell_type": "code",
   "execution_count": 4,
   "metadata": {},
   "outputs": [
    {
     "data": {
      "text/plain": [
       "['CC1(O)C#C1',\n",
       " 'NC1(N)C#C1',\n",
       " 'NC1(O)C#C1',\n",
       " 'OC1(O)C#C1',\n",
       " 'CC1(C)C=C1',\n",
       " 'CC1(C)C=N1',\n",
       " 'CC1(C)N=N1',\n",
       " 'CC1(N)C=C1',\n",
       " 'CC1(N)C=N1',\n",
       " 'CC1(N)N=N1']"
      ]
     },
     "execution_count": 4,
     "metadata": {},
     "output_type": "execute_result"
    }
   ],
   "source": [
    "smiList = open('data/1to6.dmu.smi', 'r').read().splitlines()\n",
    "smiList[1000:1010]"
   ]
  },
  {
   "cell_type": "code",
   "execution_count": 5,
   "metadata": {},
   "outputs": [
    {
     "data": {
      "text/plain": [
       "(['[C]',\n",
       "  '[N]',\n",
       "  '[O]',\n",
       "  '[C][#C]',\n",
       "  '[C][#N]',\n",
       "  '[N][#N]',\n",
       "  '[C][=C]',\n",
       "  '[C][=N]',\n",
       "  '[C][=O]',\n",
       "  '[N][=N]'],\n",
       " ['[C][C][C][C][C][Ring1][Ring2][Ring1][Ring1][C][Ring1][Branch1][Ring1][Ring2][Ring1][Ring1]',\n",
       "  '[C][C][C][N][C][Ring1][Ring2][Ring1][Ring1][C][Ring1][Branch1][Ring1][Ring2][Ring1][Ring1]',\n",
       "  '[N][C][C][C][C][Ring1][Ring2][Ring1][Ring1][C][Ring1][Branch1][Ring1][Ring2][Ring1][Ring1]',\n",
       "  '[N][C][C][N][C][Ring1][Ring2][Ring1][Ring1][C][Ring1][Branch1][Ring1][Ring2][Ring1][Ring1]',\n",
       "  '[O][C][C][C][C][Ring1][Ring2][Ring1][Ring1][C][Ring1][Branch1][Ring1][Ring2][Ring1][Ring1]',\n",
       "  '[O][C][C][N][C][Ring1][Ring2][Ring1][Ring1][C][Ring1][Branch1][Ring1][Ring2][Ring1][Ring1]',\n",
       "  '[C][C][C][C][Ring1][Ring2][C][Ring1][Branch1][Ring1][Ring2][C][Ring1][Branch1][Ring1][Ring2][Ring1][Ring1]',\n",
       "  '[C][C][N][C][Ring1][Ring2][C][Ring1][Branch1][Ring1][Ring2][C][Ring1][Branch1][Ring1][Ring2][Ring1][Ring1]',\n",
       "  '[N][C][N][C][Ring1][Ring2][C][Ring1][Branch1][Ring1][Ring2][C][Ring1][Branch1][Ring1][Ring2][Ring1][Ring1]',\n",
       "  '[C][C][C][Ring1][Ring1][C][Ring1][Ring2][C][Ring1][Branch1][Ring1][Ring2][C][Ring1][Branch1][Ring1][Ring2][Ring1][Ring1]'])"
      ]
     },
     "execution_count": 5,
     "metadata": {},
     "output_type": "execute_result"
    }
   ],
   "source": [
    "smiList_sf = []\n",
    "for smiles in smiList:\n",
    "    try:\n",
    "        smiles_sf= sf.encoder(smiles)\n",
    "    except Exception:\n",
    "        smiles_sf = Chem.MolToSmiles(Chem.MolFromSmiles(smiles))\n",
    "    smiList_sf.append(smiles_sf)\n",
    "    \n",
    "smiList_sf[:10],  smiList_sf[-10:]"
   ]
  },
  {
   "cell_type": "code",
   "execution_count": 6,
   "metadata": {},
   "outputs": [],
   "source": [
    "# Save the safe smiles\n",
    "with open('data/1to6.dmu.selfies', 'w') as f:\n",
    "    for item in smiList_sf:\n",
    "        f.write(\"%s\\n\" % item)"
   ]
  }
 ],
 "metadata": {
  "kernelspec": {
   "display_name": "mlmat",
   "language": "python",
   "name": "python3"
  },
  "language_info": {
   "codemirror_mode": {
    "name": "ipython",
    "version": 3
   },
   "file_extension": ".py",
   "mimetype": "text/x-python",
   "name": "python",
   "nbconvert_exporter": "python",
   "pygments_lexer": "ipython3",
   "version": "3.12.3"
  }
 },
 "nbformat": 4,
 "nbformat_minor": 2
}
